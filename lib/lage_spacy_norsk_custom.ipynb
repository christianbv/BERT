{
 "cells": [
  {
   "cell_type": "code",
   "execution_count": 9,
   "metadata": {},
   "outputs": [],
   "source": [
    "import json \n",
    "\n",
    "import spacy\n",
    "from spacy.pipeline import EntityRuler\n",
    "from spacy.lang.char_classes import ALPHA, ALPHA_LOWER, ALPHA_UPPER, CONCAT_QUOTES, LIST_ELLIPSES, LIST_ICONS\n",
    "from spacy.util import compile_infix_regex"
   ]
  },
  {
   "cell_type": "markdown",
   "metadata": {},
   "source": [
    "## 1) Hent original modell"
   ]
  },
  {
   "cell_type": "code",
   "execution_count": 10,
   "metadata": {},
   "outputs": [],
   "source": [
    "nlp = spacy.load(\"nb_core_news_sm\")"
   ]
  },
  {
   "cell_type": "markdown",
   "metadata": {},
   "source": [
    "## 2) Justere på tokenizeren"
   ]
  },
  {
   "cell_type": "markdown",
   "metadata": {},
   "source": [
    "### Ikke splitte ord med bindestrek"
   ]
  },
  {
   "cell_type": "markdown",
   "metadata": {},
   "source": [
    "Ønsker å beholde sammensatte ord med bindestreker, ikke splitte dem:"
   ]
  },
  {
   "cell_type": "code",
   "execution_count": 3,
   "metadata": {},
   "outputs": [
    {
     "name": "stdout",
     "output_type": "stream",
     "text": [
      "['14a', '-', 'vedtak']\n"
     ]
    }
   ],
   "source": [
    "# tokenisering med default tokenizer\n",
    "doc = nlp(\"14a-vedtak\")\n",
    "print([t.text for t in doc]) "
   ]
  },
  {
   "cell_type": "code",
   "execution_count": 11,
   "metadata": {},
   "outputs": [
    {
     "name": "stdout",
     "output_type": "stream",
     "text": [
      "['14a-vedtak']\n"
     ]
    }
   ],
   "source": [
    "_quotes = CONCAT_QUOTES.replace(\"'\", \"\")\n",
    "\n",
    "infixes = (\n",
    "    LIST_ELLIPSES\n",
    "    + LIST_ICONS\n",
    "    + [ r\"(?<=[0-9])[+\\-\\*^](?=[0-9-])\",\n",
    "        r\"(?<=[{al}])\\.(?=[{au}])\".format(al=ALPHA_LOWER, au=ALPHA_UPPER),\n",
    "        r\"(?<=[{a}])[,!?](?=[{a}])\".format(a=ALPHA),\n",
    "        r\"(?<=[{a}])[:<>=](?=[{a}])\".format(a=ALPHA),\n",
    "        r\"(?<=[{a}]),(?=[{a}])\".format(a=ALPHA),\n",
    "        r\"(?<=[{a}])([{q}\\)\\]\\(\\[])(?=[{a}])\".format(a=ALPHA, q=_quotes),\n",
    "        r\"(?<=[{a}])--(?=[{a}])\".format(a=ALPHA),\n",
    "        r\"(?<=[{a}0-9])[:<>=/](?=[{a}])\".format(a=ALPHA),\n",
    "    ]\n",
    "\n",
    ")\n",
    "\n",
    "infix_re = compile_infix_regex(infixes)\n",
    "nlp.tokenizer.infix_finditer = infix_re.finditer\n",
    "doc = nlp(\"14a-vedtak\")\n",
    "print([t.text for t in doc]) "
   ]
  },
  {
   "cell_type": "markdown",
   "metadata": {},
   "source": [
    "### Fjerne noen spesielle regler"
   ]
  },
  {
   "cell_type": "markdown",
   "metadata": {},
   "source": [
    "Den norske spacy-modellen inneholder en liste med regler og unntak som gjør at vanlige forkortelser som \"t.o.m.\" ikke splittes opp til \"t\", \".\", \"o\", \".\", \"m\", \".\" \n",
    "\n",
    "Det er vel og bra, men på lista er det også noen ting som ikke gir mening å beholde samlet, som \"i.\"."
   ]
  },
  {
   "cell_type": "code",
   "execution_count": 12,
   "metadata": {},
   "outputs": [],
   "source": [
    "custom_rules = dict({'\\t': [{65: '\\t', 74: 103, 75: '_SP'}],\n",
    " '\\n': [{65: '\\n', 74: 103, 75: '_SP'}],\n",
    " ' ': [{65: ' ', 74: 103, 75: '_SP'}],\n",
    " '\")': [{65: '\")'}],\n",
    " \"'\": [{65: \"'\"}],\n",
    " \"''\": [{65: \"''\"}],\n",
    " '(*_*)': [{65: '(*_*)'}],\n",
    " '(-8': [{65: '(-8'}],\n",
    " '(-:': [{65: '(-:'}],\n",
    " '(-;': [{65: '(-;'}],\n",
    " '(-_-)': [{65: '(-_-)'}],\n",
    " '(._.)': [{65: '(._.)'}],\n",
    " '(:': [{65: '(:'}],\n",
    " '(;': [{65: '(;'}],\n",
    " '(=': [{65: '(='}],\n",
    " '(>_<)': [{65: '(>_<)'}],\n",
    " '(^_^)': [{65: '(^_^)'}],\n",
    " '(o:': [{65: '(o:'}],\n",
    " '(¬_¬)': [{65: '(¬_¬)'}],\n",
    " '(ಠ_ಠ)': [{65: '(ಠ_ಠ)'}],\n",
    " '(╯°□°）╯︵┻━┻': [{65: '(╯°□°）╯︵┻━┻'}],\n",
    " ')-:': [{65: ')-:'}],\n",
    " '):': [{65: '):'}],\n",
    " '-_-': [{65: '-_-'}],\n",
    " '-__-': [{65: '-__-'}],\n",
    " '._.': [{65: '._.'}],\n",
    " '0.0': [{65: '0.0'}],\n",
    " '0.o': [{65: '0.o'}],\n",
    " '0_0': [{65: '0_0'}],\n",
    " '0_o': [{65: '0_o'}],\n",
    " '8)': [{65: '8)'}],\n",
    " '8-)': [{65: '8-)'}],\n",
    " '8-D': [{65: '8-D'}],\n",
    " '8D': [{65: '8D'}],\n",
    " \":'(\": [{65: \":'(\"}],\n",
    " \":')\": [{65: \":')\"}],\n",
    " \":'-(\": [{65: \":'-(\"}],\n",
    " \":'-)\": [{65: \":'-)\"}],\n",
    " ':(': [{65: ':('}],\n",
    " ':((': [{65: ':(('}],\n",
    " ':(((': [{65: ':((('}],\n",
    " ':()': [{65: ':()'}],\n",
    " ':)': [{65: ':)'}],\n",
    " ':))': [{65: ':))'}],\n",
    " ':)))': [{65: ':)))'}],\n",
    " ':*': [{65: ':*'}],\n",
    " ':-(': [{65: ':-('}],\n",
    " ':-((': [{65: ':-(('}],\n",
    " ':-(((': [{65: ':-((('}],\n",
    " ':-)': [{65: ':-)'}],\n",
    " ':-))': [{65: ':-))'}],\n",
    " ':-)))': [{65: ':-)))'}],\n",
    " ':-*': [{65: ':-*'}],\n",
    " ':-/': [{65: ':-/'}],\n",
    " ':-0': [{65: ':-0'}],\n",
    " ':-3': [{65: ':-3'}],\n",
    " ':->': [{65: ':->'}],\n",
    " ':-D': [{65: ':-D'}],\n",
    " ':-O': [{65: ':-O'}],\n",
    " ':-P': [{65: ':-P'}],\n",
    " ':-X': [{65: ':-X'}],\n",
    " ':-]': [{65: ':-]'}],\n",
    " ':-o': [{65: ':-o'}],\n",
    " ':-p': [{65: ':-p'}],\n",
    " ':-x': [{65: ':-x'}],\n",
    " ':-|': [{65: ':-|'}],\n",
    " ':-}': [{65: ':-}'}],\n",
    " ':/': [{65: ':/'}],\n",
    " ':0': [{65: ':0'}],\n",
    " ':1': [{65: ':1'}],\n",
    " ':3': [{65: ':3'}],\n",
    " ':>': [{65: ':>'}],\n",
    " ':D': [{65: ':D'}],\n",
    " ':O': [{65: ':O'}],\n",
    " ':P': [{65: ':P'}],\n",
    " ':X': [{65: ':X'}],\n",
    " ':]': [{65: ':]'}],\n",
    " ':o': [{65: ':o'}],\n",
    " ':o)': [{65: ':o)'}],\n",
    " ':p': [{65: ':p'}],\n",
    " ':x': [{65: ':x'}],\n",
    " ':|': [{65: ':|'}],\n",
    " ':}': [{65: ':}'}],\n",
    " ':’(': [{65: ':’('}],\n",
    " ':’)': [{65: ':’)'}],\n",
    " ':’-(': [{65: ':’-('}],\n",
    " ':’-)': [{65: ':’-)'}],\n",
    " ';)': [{65: ';)'}],\n",
    " ';-)': [{65: ';-)'}],\n",
    " ';-D': [{65: ';-D'}],\n",
    " ';D': [{65: ';D'}],\n",
    " ';_;': [{65: ';_;'}],\n",
    " '<.<': [{65: '<.<'}],\n",
    " '</3': [{65: '</3'}],\n",
    " '<3': [{65: '<3'}],\n",
    " '<33': [{65: '<33'}],\n",
    " '<333': [{65: '<333'}],\n",
    " '<space>': [{65: '<space>'}],\n",
    " '=(': [{65: '=('}],\n",
    " '=)': [{65: '=)'}],\n",
    " '=/': [{65: '=/'}],\n",
    " '=3': [{65: '=3'}],\n",
    " '=D': [{65: '=D'}],\n",
    " '=|': [{65: '=|'}],\n",
    " '>.<': [{65: '>.<'}],\n",
    " '>.>': [{65: '>.>'}],\n",
    " '>:(': [{65: '>:('}],\n",
    " '>:o': [{65: '>:o'}],\n",
    " '><(((*>': [{65: '><(((*>'}],\n",
    " '@_@': [{65: '@_@'}],\n",
    " 'Aq.': [{65: 'Aq.'}],\n",
    " 'C++': [{65: 'C++'}],\n",
    " 'E. coli': [{65: 'E. coli'}],\n",
    " 'O.O': [{65: 'O.O'}],\n",
    " 'O.o': [{65: 'O.o'}],\n",
    " 'O_O': [{65: 'O_O'}],\n",
    " 'O_o': [{65: 'O_o'}],\n",
    " 'V.V': [{65: 'V.V'}],\n",
    " 'V_V': [{65: 'V_V'}],\n",
    " 'XD': [{65: 'XD'}],\n",
    " 'XDD': [{65: 'XDD'}],\n",
    " '[-:': [{65: '[-:'}],\n",
    " '[:': [{65: '[:'}],\n",
    " '\\\\\")': [{65: '\\\\\")'}],\n",
    " '\\\\n': [{65: '\\\\n', 74: 103, 75: '_SP'}],\n",
    " '\\\\t': [{65: '\\\\t', 74: 103, 75: '_SP'}],\n",
    " '^_^': [{65: '^_^'}],\n",
    " '^__^': [{65: '^__^'}],\n",
    " '^___^': [{65: '^___^'}],\n",
    " 'a.m.': [{65: 'a.m.'}],\n",
    " 'adm.dir.': [{65: 'adm.dir.'}],\n",
    " 'b.c.': [{65: 'b.c.'}],\n",
    " 'bl.a.': [{65: 'bl.a.'}],\n",
    " 'c.c.': [{65: 'c.c.'}],\n",
    " 'cand.mag.': [{65: 'cand.mag.'}],\n",
    " 'd.d.': [{65: 'd.d.'}],\n",
    " 'd.m.': [{65: 'd.m.'}],\n",
    " 'd.y.': [{65: 'd.y.'}],\n",
    " 'dr.philos.': [{65: 'dr.philos.'}],\n",
    " 'e.Kr.': [{65: 'e.Kr.'}],\n",
    " 'e.l.': [{65: 'e.l.'}],\n",
    " 'f.Kr.': [{65: 'f.Kr.'}],\n",
    " 'f.eks.': [{65: 'f.eks.'}],\n",
    " 'f.o.m.': [{65: 'f.o.m.'}],\n",
    " 'h.r.adv.': [{65: 'h.r.adv.'}],\n",
    " 'kgl.res.': [{65: 'kgl.res.'}],\n",
    " 'm.a.o.': [{65: 'm.a.o.'}],\n",
    " 'm.m.': [{65: 'm.m.'}],\n",
    " 'mag.art.': [{65: 'mag.art.'}],\n",
    " 'o.0': [{65: 'o.0'}],\n",
    " 'o.O': [{65: 'o.O'}],\n",
    " 'o.a.': [{65: 'o.a.'}],\n",
    " 'o.l.': [{65: 'o.l.'}],\n",
    " 'o.o': [{65: 'o.o'}],\n",
    " 'o_0': [{65: 'o_0'}],\n",
    " 'o_O': [{65: 'o_O'}],\n",
    " 'o_o': [{65: 'o_o'}],\n",
    " 'p.a.': [{65: 'p.a.'}],\n",
    " 'p.m.': [{65: 'p.m.'}],\n",
    " 'p.t.': [{65: 'p.t.'}],\n",
    " 'ph.d.': [{65: 'ph.d.'}],\n",
    " 'red.anm.': [{65: 'red.anm.'}],\n",
    " 'res.kap.': [{65: 'res.kap.'}],\n",
    " 's.d.': [{65: 's.d.'}],\n",
    " 's.u.': [{65: 's.u.'}],\n",
    " 's.å.': [{65: 's.å.'}],\n",
    " 'st.meld.': [{65: 'st.meld.'}],\n",
    " 'st.prp.': [{65: 'st.prp.'}],\n",
    " 't.o.m.': [{65: 't.o.m.'}],\n",
    " 'tl;dr': [{65: 'tl;dr'}],\n",
    " 'v.v': [{65: 'v.v'}],\n",
    " 'v_v': [{65: 'v_v'}],\n",
    " 'vit.ass.': [{65: 'vit.ass.'}],\n",
    " 'xD': [{65: 'xD'}],\n",
    " 'xDD': [{65: 'xDD'}],\n",
    " '\\xa0': [{65: '\\xa0', 74: 103, 73: '  ', 75: '_SP'}],\n",
    " '¯\\\\(ツ)/¯': [{65: '¯\\\\(ツ)/¯'}],\n",
    " 'ಠ_ಠ': [{65: 'ಠ_ಠ'}],\n",
    " 'ಠ︵ಠ': [{65: 'ಠ︵ಠ'}],\n",
    " '—': [{65: '—'}],\n",
    " '’': [{65: '’'}],\n",
    "                    })\n",
    "\n",
    "# Special rule for 1%, 40% and so on.\n",
    "for i in range(1,101):\n",
    "    custom_rules[f'{i}%'] = [{65:f'{i}%'}]"
   ]
  },
  {
   "cell_type": "code",
   "execution_count": 14,
   "metadata": {},
   "outputs": [],
   "source": [
    "nlp.tokenizer.rules = custom_rules"
   ]
  },
  {
   "cell_type": "markdown",
   "metadata": {},
   "source": [
    "## 3) Lager en entity ruler"
   ]
  },
  {
   "cell_type": "markdown",
   "metadata": {},
   "source": [
    "### Personnavn"
   ]
  },
  {
   "cell_type": "markdown",
   "metadata": {},
   "source": [
    "Ønsker å vaske bort alle personnavn. Tilrettelegger for dette ved å legge inn SSBs navnelister som entity rules"
   ]
  },
  {
   "cell_type": "code",
   "execution_count": 15,
   "metadata": {},
   "outputs": [],
   "source": [
    "# leser inn navneliste fra fil\n",
    "contents = open(\"NAVN_PATTERN.jsonl\", \"r\").read() \n",
    "patterns = [json.loads(str(item)) for item in contents.strip().split('\\n')]"
   ]
  },
  {
   "cell_type": "code",
   "execution_count": 16,
   "metadata": {},
   "outputs": [],
   "source": [
    "ent_ruler = EntityRuler(nlp, overwrite_ents = True)\n",
    "ent_ruler.add_patterns(patterns)"
   ]
  },
  {
   "cell_type": "markdown",
   "metadata": {},
   "source": [
    "### Diagnosekoder"
   ]
  },
  {
   "cell_type": "markdown",
   "metadata": {},
   "source": [
    "Ønsker å vaske bort alle sykdommer og diagnoser"
   ]
  },
  {
   "cell_type": "code",
   "execution_count": 17,
   "metadata": {},
   "outputs": [],
   "source": [
    "# leser inn navneliste fra fil\n",
    "contents = open(\"DIAG_PATTERN.jsonl\", \"r\").read() \n",
    "patterns = [json.loads(str(item)) for item in contents.strip().split('\\n')]"
   ]
  },
  {
   "cell_type": "code",
   "execution_count": 18,
   "metadata": {},
   "outputs": [],
   "source": [
    "ent_ruler.add_patterns(patterns)"
   ]
  },
  {
   "cell_type": "markdown",
   "metadata": {},
   "source": [
    "### FNR"
   ]
  },
  {
   "cell_type": "markdown",
   "metadata": {},
   "source": [
    "Fjerner fødselsnr vha. regex, men legger til en regel for å kunne beholde fnr-tagen vi kommer til å bruke:"
   ]
  },
  {
   "cell_type": "code",
   "execution_count": 19,
   "metadata": {},
   "outputs": [],
   "source": [
    "pattern = [{\"label\": \"[fnr]\", \"pattern\": [{\"IS_PUNCT\": True},{\"lower\": \"fnr\"},{\"IS_PUNCT\": True}]}]"
   ]
  },
  {
   "cell_type": "code",
   "execution_count": 20,
   "metadata": {},
   "outputs": [],
   "source": [
    "ent_ruler.add_patterns(pattern)"
   ]
  },
  {
   "cell_type": "markdown",
   "metadata": {},
   "source": [
    "### Mail"
   ]
  },
  {
   "cell_type": "code",
   "execution_count": 21,
   "metadata": {},
   "outputs": [],
   "source": [
    "pattern = [{\"label\": \"[email]\", \"pattern\": [{\"IS_PUNCT\": True},{\"lower\": \"email\"},{\"IS_PUNCT\": True}]}]"
   ]
  },
  {
   "cell_type": "code",
   "execution_count": 22,
   "metadata": {},
   "outputs": [],
   "source": [
    "ent_ruler.add_patterns(pattern)"
   ]
  },
  {
   "cell_type": "markdown",
   "metadata": {},
   "source": [
    "### dato\n"
   ]
  },
  {
   "cell_type": "code",
   "execution_count": 23,
   "metadata": {},
   "outputs": [],
   "source": [
    "pattern = [{\"label\": \"[dato]\", \"pattern\": [{\"IS_PUNCT\": True},{\"lower\": \"dato\"},{\"IS_PUNCT\": True}]}]"
   ]
  },
  {
   "cell_type": "code",
   "execution_count": 24,
   "metadata": {},
   "outputs": [],
   "source": [
    "ent_ruler.add_patterns(pattern)"
   ]
  },
  {
   "cell_type": "markdown",
   "metadata": {},
   "source": [
    "## Fjerner datoer"
   ]
  },
  {
   "cell_type": "code",
   "execution_count": 25,
   "metadata": {},
   "outputs": [
    {
     "data": {
      "text/plain": [
       "\"import re\\ndate_pattern1 = re.search(r'\\\\d{2}/\\\\d{2}',sentences)\\ndate_pattern2 = re.search(r'\\\\d{2}/\\\\d{1}',sentences)\\ndate_pattern3 = re.search(r'\\\\d{1}/\\\\d{1}',sentences)\\ndate_pattern4 = re.search(r'\\\\d{1}/\\\\d{2}',sentences)\\n\\nent_ruler.add_patterns(date_pattern1,date_pattern2,date_pattern3,date_pattern4)\""
      ]
     },
     "execution_count": 25,
     "metadata": {},
     "output_type": "execute_result"
    }
   ],
   "source": [
    "'''import re\n",
    "date_pattern1 = re.search(r'\\d{2}/\\d{2}',sentences)\n",
    "date_pattern2 = re.search(r'\\d{2}/\\d{1}',sentences)\n",
    "date_pattern3 = re.search(r'\\d{1}/\\d{1}',sentences)\n",
    "date_pattern4 = re.search(r'\\d{1}/\\d{2}',sentences)\n",
    "\n",
    "ent_ruler.add_patterns(date_pattern1,date_pattern2,date_pattern3,date_pattern4)'''"
   ]
  },
  {
   "cell_type": "markdown",
   "metadata": {},
   "source": [
    "## 4) Legger til entiry ruleren i tekstprosesserings-pipen"
   ]
  },
  {
   "cell_type": "code",
   "execution_count": 26,
   "metadata": {},
   "outputs": [],
   "source": [
    "nlp.add_pipe(ent_ruler)"
   ]
  },
  {
   "cell_type": "markdown",
   "metadata": {},
   "source": [
    "## 5) Lagrer til disk"
   ]
  },
  {
   "cell_type": "code",
   "execution_count": 27,
   "metadata": {},
   "outputs": [],
   "source": [
    "nlp.to_disk('spacy_norsk_custom')"
   ]
  },
  {
   "cell_type": "markdown",
   "metadata": {},
   "source": [
    "Modellen kan da senere tas i bruk ved å laste inn"
   ]
  },
  {
   "cell_type": "code",
   "execution_count": 28,
   "metadata": {},
   "outputs": [],
   "source": [
    "nlp = spacy.load('spacy_norsk_custom')"
   ]
  },
  {
   "cell_type": "code",
   "execution_count": 30,
   "metadata": {},
   "outputs": [
    {
     "data": {
      "text/plain": [
       "{'\\t': [{65: '\\t', 74: 103, 75: '_SP'}],\n",
       " '\\n': [{65: '\\n', 74: 103, 75: '_SP'}],\n",
       " ' ': [{65: ' ', 74: 103, 75: '_SP'}],\n",
       " '\")': [{65: '\")'}],\n",
       " \"'\": [{65: \"'\"}],\n",
       " \"''\": [{65: \"''\"}],\n",
       " '(*_*)': [{65: '(*_*)'}],\n",
       " '(-8': [{65: '(-8'}],\n",
       " '(-:': [{65: '(-:'}],\n",
       " '(-;': [{65: '(-;'}],\n",
       " '(-_-)': [{65: '(-_-)'}],\n",
       " '(._.)': [{65: '(._.)'}],\n",
       " '(:': [{65: '(:'}],\n",
       " '(;': [{65: '(;'}],\n",
       " '(=': [{65: '(='}],\n",
       " '(>_<)': [{65: '(>_<)'}],\n",
       " '(^_^)': [{65: '(^_^)'}],\n",
       " '(o:': [{65: '(o:'}],\n",
       " '(¬_¬)': [{65: '(¬_¬)'}],\n",
       " '(ಠ_ಠ)': [{65: '(ಠ_ಠ)'}],\n",
       " '(╯°□°）╯︵┻━┻': [{65: '(╯°□°）╯︵┻━┻'}],\n",
       " ')-:': [{65: ')-:'}],\n",
       " '):': [{65: '):'}],\n",
       " '-_-': [{65: '-_-'}],\n",
       " '-__-': [{65: '-__-'}],\n",
       " '._.': [{65: '._.'}],\n",
       " '0.0': [{65: '0.0'}],\n",
       " '0.o': [{65: '0.o'}],\n",
       " '0_0': [{65: '0_0'}],\n",
       " '0_o': [{65: '0_o'}],\n",
       " '1%': [{65: '1%'}],\n",
       " '10%': [{65: '10%'}],\n",
       " '100%': [{65: '100%'}],\n",
       " '11%': [{65: '11%'}],\n",
       " '12%': [{65: '12%'}],\n",
       " '13%': [{65: '13%'}],\n",
       " '14%': [{65: '14%'}],\n",
       " '15%': [{65: '15%'}],\n",
       " '16%': [{65: '16%'}],\n",
       " '17%': [{65: '17%'}],\n",
       " '18%': [{65: '18%'}],\n",
       " '19%': [{65: '19%'}],\n",
       " '2%': [{65: '2%'}],\n",
       " '20%': [{65: '20%'}],\n",
       " '21%': [{65: '21%'}],\n",
       " '22%': [{65: '22%'}],\n",
       " '23%': [{65: '23%'}],\n",
       " '24%': [{65: '24%'}],\n",
       " '25%': [{65: '25%'}],\n",
       " '26%': [{65: '26%'}],\n",
       " '27%': [{65: '27%'}],\n",
       " '28%': [{65: '28%'}],\n",
       " '29%': [{65: '29%'}],\n",
       " '3%': [{65: '3%'}],\n",
       " '30%': [{65: '30%'}],\n",
       " '31%': [{65: '31%'}],\n",
       " '32%': [{65: '32%'}],\n",
       " '33%': [{65: '33%'}],\n",
       " '34%': [{65: '34%'}],\n",
       " '35%': [{65: '35%'}],\n",
       " '36%': [{65: '36%'}],\n",
       " '37%': [{65: '37%'}],\n",
       " '38%': [{65: '38%'}],\n",
       " '39%': [{65: '39%'}],\n",
       " '4%': [{65: '4%'}],\n",
       " '40%': [{65: '40%'}],\n",
       " '41%': [{65: '41%'}],\n",
       " '42%': [{65: '42%'}],\n",
       " '43%': [{65: '43%'}],\n",
       " '44%': [{65: '44%'}],\n",
       " '45%': [{65: '45%'}],\n",
       " '46%': [{65: '46%'}],\n",
       " '47%': [{65: '47%'}],\n",
       " '48%': [{65: '48%'}],\n",
       " '49%': [{65: '49%'}],\n",
       " '5%': [{65: '5%'}],\n",
       " '50%': [{65: '50%'}],\n",
       " '51%': [{65: '51%'}],\n",
       " '52%': [{65: '52%'}],\n",
       " '53%': [{65: '53%'}],\n",
       " '54%': [{65: '54%'}],\n",
       " '55%': [{65: '55%'}],\n",
       " '56%': [{65: '56%'}],\n",
       " '57%': [{65: '57%'}],\n",
       " '58%': [{65: '58%'}],\n",
       " '59%': [{65: '59%'}],\n",
       " '6%': [{65: '6%'}],\n",
       " '60%': [{65: '60%'}],\n",
       " '61%': [{65: '61%'}],\n",
       " '62%': [{65: '62%'}],\n",
       " '63%': [{65: '63%'}],\n",
       " '64%': [{65: '64%'}],\n",
       " '65%': [{65: '65%'}],\n",
       " '66%': [{65: '66%'}],\n",
       " '67%': [{65: '67%'}],\n",
       " '68%': [{65: '68%'}],\n",
       " '69%': [{65: '69%'}],\n",
       " '7%': [{65: '7%'}],\n",
       " '70%': [{65: '70%'}],\n",
       " '71%': [{65: '71%'}],\n",
       " '72%': [{65: '72%'}],\n",
       " '73%': [{65: '73%'}],\n",
       " '74%': [{65: '74%'}],\n",
       " '75%': [{65: '75%'}],\n",
       " '76%': [{65: '76%'}],\n",
       " '77%': [{65: '77%'}],\n",
       " '78%': [{65: '78%'}],\n",
       " '79%': [{65: '79%'}],\n",
       " '8%': [{65: '8%'}],\n",
       " '8)': [{65: '8)'}],\n",
       " '8-)': [{65: '8-)'}],\n",
       " '8-D': [{65: '8-D'}],\n",
       " '80%': [{65: '80%'}],\n",
       " '81%': [{65: '81%'}],\n",
       " '82%': [{65: '82%'}],\n",
       " '83%': [{65: '83%'}],\n",
       " '84%': [{65: '84%'}],\n",
       " '85%': [{65: '85%'}],\n",
       " '86%': [{65: '86%'}],\n",
       " '87%': [{65: '87%'}],\n",
       " '88%': [{65: '88%'}],\n",
       " '89%': [{65: '89%'}],\n",
       " '8D': [{65: '8D'}],\n",
       " '9%': [{65: '9%'}],\n",
       " '90%': [{65: '90%'}],\n",
       " '91%': [{65: '91%'}],\n",
       " '92%': [{65: '92%'}],\n",
       " '93%': [{65: '93%'}],\n",
       " '94%': [{65: '94%'}],\n",
       " '95%': [{65: '95%'}],\n",
       " '96%': [{65: '96%'}],\n",
       " '97%': [{65: '97%'}],\n",
       " '98%': [{65: '98%'}],\n",
       " '99%': [{65: '99%'}],\n",
       " \":'(\": [{65: \":'(\"}],\n",
       " \":')\": [{65: \":')\"}],\n",
       " \":'-(\": [{65: \":'-(\"}],\n",
       " \":'-)\": [{65: \":'-)\"}],\n",
       " ':(': [{65: ':('}],\n",
       " ':((': [{65: ':(('}],\n",
       " ':(((': [{65: ':((('}],\n",
       " ':()': [{65: ':()'}],\n",
       " ':)': [{65: ':)'}],\n",
       " ':))': [{65: ':))'}],\n",
       " ':)))': [{65: ':)))'}],\n",
       " ':*': [{65: ':*'}],\n",
       " ':-(': [{65: ':-('}],\n",
       " ':-((': [{65: ':-(('}],\n",
       " ':-(((': [{65: ':-((('}],\n",
       " ':-)': [{65: ':-)'}],\n",
       " ':-))': [{65: ':-))'}],\n",
       " ':-)))': [{65: ':-)))'}],\n",
       " ':-*': [{65: ':-*'}],\n",
       " ':-/': [{65: ':-/'}],\n",
       " ':-0': [{65: ':-0'}],\n",
       " ':-3': [{65: ':-3'}],\n",
       " ':->': [{65: ':->'}],\n",
       " ':-D': [{65: ':-D'}],\n",
       " ':-O': [{65: ':-O'}],\n",
       " ':-P': [{65: ':-P'}],\n",
       " ':-X': [{65: ':-X'}],\n",
       " ':-]': [{65: ':-]'}],\n",
       " ':-o': [{65: ':-o'}],\n",
       " ':-p': [{65: ':-p'}],\n",
       " ':-x': [{65: ':-x'}],\n",
       " ':-|': [{65: ':-|'}],\n",
       " ':-}': [{65: ':-}'}],\n",
       " ':/': [{65: ':/'}],\n",
       " ':0': [{65: ':0'}],\n",
       " ':1': [{65: ':1'}],\n",
       " ':3': [{65: ':3'}],\n",
       " ':>': [{65: ':>'}],\n",
       " ':D': [{65: ':D'}],\n",
       " ':O': [{65: ':O'}],\n",
       " ':P': [{65: ':P'}],\n",
       " ':X': [{65: ':X'}],\n",
       " ':]': [{65: ':]'}],\n",
       " ':o': [{65: ':o'}],\n",
       " ':o)': [{65: ':o)'}],\n",
       " ':p': [{65: ':p'}],\n",
       " ':x': [{65: ':x'}],\n",
       " ':|': [{65: ':|'}],\n",
       " ':}': [{65: ':}'}],\n",
       " ':’(': [{65: ':’('}],\n",
       " ':’)': [{65: ':’)'}],\n",
       " ':’-(': [{65: ':’-('}],\n",
       " ':’-)': [{65: ':’-)'}],\n",
       " ';)': [{65: ';)'}],\n",
       " ';-)': [{65: ';-)'}],\n",
       " ';-D': [{65: ';-D'}],\n",
       " ';D': [{65: ';D'}],\n",
       " ';_;': [{65: ';_;'}],\n",
       " '<.<': [{65: '<.<'}],\n",
       " '</3': [{65: '</3'}],\n",
       " '<3': [{65: '<3'}],\n",
       " '<33': [{65: '<33'}],\n",
       " '<333': [{65: '<333'}],\n",
       " '<space>': [{65: '<space>'}],\n",
       " '=(': [{65: '=('}],\n",
       " '=)': [{65: '=)'}],\n",
       " '=/': [{65: '=/'}],\n",
       " '=3': [{65: '=3'}],\n",
       " '=D': [{65: '=D'}],\n",
       " '=|': [{65: '=|'}],\n",
       " '>.<': [{65: '>.<'}],\n",
       " '>.>': [{65: '>.>'}],\n",
       " '>:(': [{65: '>:('}],\n",
       " '>:o': [{65: '>:o'}],\n",
       " '><(((*>': [{65: '><(((*>'}],\n",
       " '@_@': [{65: '@_@'}],\n",
       " 'Aq.': [{65: 'Aq.'}],\n",
       " 'C++': [{65: 'C++'}],\n",
       " 'E. coli': [{65: 'E. coli'}],\n",
       " 'O.O': [{65: 'O.O'}],\n",
       " 'O.o': [{65: 'O.o'}],\n",
       " 'O_O': [{65: 'O_O'}],\n",
       " 'O_o': [{65: 'O_o'}],\n",
       " 'V.V': [{65: 'V.V'}],\n",
       " 'V_V': [{65: 'V_V'}],\n",
       " 'XD': [{65: 'XD'}],\n",
       " 'XDD': [{65: 'XDD'}],\n",
       " '[-:': [{65: '[-:'}],\n",
       " '[:': [{65: '[:'}],\n",
       " '\\\\\")': [{65: '\\\\\")'}],\n",
       " '\\\\n': [{65: '\\\\n', 74: 103, 75: '_SP'}],\n",
       " '\\\\t': [{65: '\\\\t', 74: 103, 75: '_SP'}],\n",
       " '^_^': [{65: '^_^'}],\n",
       " '^__^': [{65: '^__^'}],\n",
       " '^___^': [{65: '^___^'}],\n",
       " 'a.m.': [{65: 'a.m.'}],\n",
       " 'adm.dir.': [{65: 'adm.dir.'}],\n",
       " 'b.c.': [{65: 'b.c.'}],\n",
       " 'bl.a.': [{65: 'bl.a.'}],\n",
       " 'c.c.': [{65: 'c.c.'}],\n",
       " 'cand.mag.': [{65: 'cand.mag.'}],\n",
       " 'd.d.': [{65: 'd.d.'}],\n",
       " 'd.m.': [{65: 'd.m.'}],\n",
       " 'd.y.': [{65: 'd.y.'}],\n",
       " 'dr.philos.': [{65: 'dr.philos.'}],\n",
       " 'e.Kr.': [{65: 'e.Kr.'}],\n",
       " 'e.l.': [{65: 'e.l.'}],\n",
       " 'f.Kr.': [{65: 'f.Kr.'}],\n",
       " 'f.eks.': [{65: 'f.eks.'}],\n",
       " 'f.o.m.': [{65: 'f.o.m.'}],\n",
       " 'h.r.adv.': [{65: 'h.r.adv.'}],\n",
       " 'kgl.res.': [{65: 'kgl.res.'}],\n",
       " 'm.a.o.': [{65: 'm.a.o.'}],\n",
       " 'm.m.': [{65: 'm.m.'}],\n",
       " 'mag.art.': [{65: 'mag.art.'}],\n",
       " 'o.0': [{65: 'o.0'}],\n",
       " 'o.O': [{65: 'o.O'}],\n",
       " 'o.a.': [{65: 'o.a.'}],\n",
       " 'o.l.': [{65: 'o.l.'}],\n",
       " 'o.o': [{65: 'o.o'}],\n",
       " 'o_0': [{65: 'o_0'}],\n",
       " 'o_O': [{65: 'o_O'}],\n",
       " 'o_o': [{65: 'o_o'}],\n",
       " 'p.a.': [{65: 'p.a.'}],\n",
       " 'p.m.': [{65: 'p.m.'}],\n",
       " 'p.t.': [{65: 'p.t.'}],\n",
       " 'ph.d.': [{65: 'ph.d.'}],\n",
       " 'red.anm.': [{65: 'red.anm.'}],\n",
       " 'res.kap.': [{65: 'res.kap.'}],\n",
       " 's.d.': [{65: 's.d.'}],\n",
       " 's.u.': [{65: 's.u.'}],\n",
       " 's.å.': [{65: 's.å.'}],\n",
       " 'st.meld.': [{65: 'st.meld.'}],\n",
       " 'st.prp.': [{65: 'st.prp.'}],\n",
       " 't.o.m.': [{65: 't.o.m.'}],\n",
       " 'tl;dr': [{65: 'tl;dr'}],\n",
       " 'v.v': [{65: 'v.v'}],\n",
       " 'v_v': [{65: 'v_v'}],\n",
       " 'vit.ass.': [{65: 'vit.ass.'}],\n",
       " 'xD': [{65: 'xD'}],\n",
       " 'xDD': [{65: 'xDD'}],\n",
       " '\\xa0': [{65: '\\xa0', 74: 103, 73: '  ', 75: '_SP'}],\n",
       " '¯\\\\(ツ)/¯': [{65: '¯\\\\(ツ)/¯'}],\n",
       " 'ಠ_ಠ': [{65: 'ಠ_ಠ'}],\n",
       " 'ಠ︵ಠ': [{65: 'ಠ︵ಠ'}],\n",
       " '—': [{65: '—'}],\n",
       " '’': [{65: '’'}]}"
      ]
     },
     "execution_count": 30,
     "metadata": {},
     "output_type": "execute_result"
    }
   ],
   "source": [
    "nlp.tokenizer.rules"
   ]
  },
  {
   "cell_type": "code",
   "execution_count": null,
   "metadata": {},
   "outputs": [],
   "source": []
  }
 ],
 "metadata": {
  "kernelspec": {
   "display_name": "Python 3",
   "language": "python",
   "name": "python3"
  },
  "language_info": {
   "codemirror_mode": {
    "name": "ipython",
    "version": 3
   },
   "file_extension": ".py",
   "mimetype": "text/x-python",
   "name": "python",
   "nbconvert_exporter": "python",
   "pygments_lexer": "ipython3",
   "version": "3.7.7"
  }
 },
 "nbformat": 4,
 "nbformat_minor": 4
}
